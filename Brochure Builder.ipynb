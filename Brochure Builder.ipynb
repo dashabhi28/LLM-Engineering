{
 "cells": [
  {
   "cell_type": "markdown",
   "id": "a98030af-fcd1-4d63-a36e-38ba053498fa",
   "metadata": {},
   "source": [
    "BUSINESS CHALLENGE:\n",
    "\n",
    "Create a product that builds a Brochure for a company to be used for prospective clients, investors and potential recruits. \n",
    "It is assumed that a local llm is running on your system and has been invoked with this code, for instance here llama 3.2 is engaged."
   ]
  },
  {
   "cell_type": "code",
   "execution_count": 2,
   "id": "d5b08506-dc8b-4443-9201-5f1848161363",
   "metadata": {},
   "outputs": [],
   "source": [
    "# imports\n",
    "# If these fail, please check you're running from an 'activated' environment with (llms) in the command prompt\n",
    "\n",
    "import os\n",
    "import requests\n",
    "import json\n",
    "from typing import List\n",
    "#from dotenv import load_dotenv #running llama locally, hence this wont be needed\n",
    "from bs4 import BeautifulSoup\n",
    "from IPython.display import Markdown, display, update_display\n",
    "from openai import OpenAI"
   ]
  },
  {
   "cell_type": "markdown",
   "id": "ede3d059-51c4-48b2-9c75-ad6e2e838e6a",
   "metadata": {},
   "source": [
    "Initialize and constants in case of using Open AI API\n",
    "\n",
    "\"load_dotenv(override=True)\n",
    "api_key = os.getenv('OPENAI_API_KEY')\n",
    "\n",
    "if api_key and api_key.startswith('sk-proj-') and len(api_key)>10:\n",
    "    print(\"API key looks good so far\")\n",
    "else:\n",
    "    print(\"There might be a problem with your API key? Please visit the troubleshooting notebook!\")\n",
    "    \n",
    "MODEL = 'gpt-4o-mini'\n",
    "openai = OpenAI()\""
   ]
  },
  {
   "cell_type": "code",
   "execution_count": 3,
   "id": "4184128a-adb5-4896-8498-722603d10cdf",
   "metadata": {},
   "outputs": [],
   "source": [
    "#local llm connection\n",
    "openai = OpenAI(base_url='http://localhost:11434/v1', api_key='ollama')"
   ]
  },
  {
   "cell_type": "code",
   "execution_count": 4,
   "id": "106dd65e-90af-4ca8-86b6-23a41840645b",
   "metadata": {},
   "outputs": [],
   "source": [
    "# A class to represent a Webpage\n",
    "\n",
    "headers = {\n",
    " \"User-Agent\": \"Mozilla/5.0 (Windows NT 10.0; Win64; x64) AppleWebKit/537.36 (KHTML, like Gecko) Chrome/117.0.0.0 Safari/537.36\"\n",
    "}\n",
    "\n",
    "class Website:\n",
    "    def __init__(self, url):\n",
    "        self.url = url\n",
    "        response = requests.get(url, headers=headers)\n",
    "        self.body = response.content\n",
    "        soup = BeautifulSoup(self.body, 'html.parser')\n",
    "        self.title = soup.title.string if soup.title else \"No title found\"\n",
    "        if soup.body:\n",
    "            for irrelevant in soup.body([\"script\", \"style\", \"img\", \"input\"]):\n",
    "                irrelevant.decompose()\n",
    "            self.text = soup.body.get_text(separator=\"\\n\", strip=True)\n",
    "        else:\n",
    "            self.text = \"\"\n",
    "        links = [link.get('href') for link in soup.find_all('a')]\n",
    "        self.links = [link for link in links if link]\n",
    "\n",
    "    def get_contents(self):\n",
    "        return f\"Webpage Title:\\n{self.title}\\nWebpage Contents:\\n{self.text}\\n\\n\""
   ]
  },
  {
   "cell_type": "code",
   "execution_count": 5,
   "id": "e30d8128-933b-44cc-81c8-ab4c9d86589a",
   "metadata": {},
   "outputs": [],
   "source": [
    "ed = Website(\"https://edwarddonner.com\")\n",
    "#ed.links"
   ]
  },
  {
   "cell_type": "markdown",
   "id": "1771af9c-717a-4fca-bbbe-8a95893312c3",
   "metadata": {},
   "source": [
    "First step: Have Llama3.2 figure out which links are relevant\n",
    "\n",
    "Use a call to llama3.2 to read the links on a webpage, and respond in structured JSON.  \n",
    "It should decide which links are relevant, and replace relative links such as \"/about\" with \"https://company.com/about\".  \n",
    "We will use \"one shot prompting\" in which we provide an example of how it should respond in the prompt."
   ]
  },
  {
   "cell_type": "code",
   "execution_count": 6,
   "id": "6957b079-0d96-45f7-a26a-3487510e9b35",
   "metadata": {},
   "outputs": [],
   "source": [
    "link_system_prompt = \"You are provided with a list of links found on a webpage. \\\n",
    "You are able to decide which of the links would be most relevant to include in a brochure about the company, \\\n",
    "such as links to an About page, or a Company page, or Careers/Jobs pages.\\n\"\n",
    "link_system_prompt += \"You should respond in JSON as in this example:\"\n",
    "link_system_prompt += \"\"\"\n",
    "{\n",
    "    \"links\": [\n",
    "        {\"type\": \"about page\", \"url\": \"https://full.url/goes/here/about\"},\n",
    "        {\"type\": \"careers page\": \"url\": \"https://another.full.url/careers\"}\n",
    "    ]\n",
    "}\n",
    "\"\"\""
   ]
  },
  {
   "cell_type": "markdown",
   "id": "7e9976b0-05e2-4dd4-90e3-92a640a9ffbc",
   "metadata": {},
   "source": [
    "#print(link_system_prompt)"
   ]
  },
  {
   "cell_type": "code",
   "execution_count": 7,
   "id": "8e1f601b-2eaf-499d-b6b8-c99050c9d6b3",
   "metadata": {},
   "outputs": [],
   "source": [
    "def get_links_user_prompt(website):\n",
    "    user_prompt = f\"Here is the list of links on the website of {website.url} - \"\n",
    "    user_prompt += \"please decide which of these are relevant web links for a brochure about the company, respond with the full https URL in JSON format. \\\n",
    "Do not include Terms of Service, legal, Privacy, email links.\\n\"\n",
    "    user_prompt += \"Links (some might be relative links):\\n\"\n",
    "    user_prompt += \"\\n\".join(website.links)\n",
    "    return user_prompt"
   ]
  },
  {
   "cell_type": "markdown",
   "id": "c8b9f47b-b1d0-4ca1-ba4b-67befeebf376",
   "metadata": {},
   "source": [
    "#print(get_links_user_prompt(ed))"
   ]
  },
  {
   "cell_type": "code",
   "execution_count": 8,
   "id": "a29aca19-ca13-471c-a4b4-5abbfa813f69",
   "metadata": {},
   "outputs": [],
   "source": [
    "def get_links(url):\n",
    "    website = Website(url)\n",
    "    response = openai.chat.completions.create(\n",
    "        model=\"llama3.2\",\n",
    "        messages=[\n",
    "            {\"role\": \"system\", \"content\": link_system_prompt},\n",
    "            {\"role\": \"user\", \"content\": get_links_user_prompt(website)}\n",
    "      ],\n",
    "        response_format={\"type\": \"json_object\"}\n",
    "    )\n",
    "    result = response.choices[0].message.content\n",
    "    return json.loads(result)"
   ]
  },
  {
   "cell_type": "code",
   "execution_count": 9,
   "id": "74a827a0-2782-4ae5-b210-4a242a8b4cc2",
   "metadata": {},
   "outputs": [],
   "source": [
    "#edwarddonner = Website(\"https://edwarddonner.com\")\n",
    "#edwarddonner.links"
   ]
  },
  {
   "cell_type": "markdown",
   "id": "e5608bee-bbd9-4960-9cd0-05b35a85bf74",
   "metadata": {},
   "source": [
    "#get_links(\"https://edwarddonner.com\")"
   ]
  },
  {
   "cell_type": "markdown",
   "id": "0d74128e-dfb6-47ec-9549-288b621c838c",
   "metadata": {},
   "source": [
    "## Second step: make the brochure!\n",
    "\n",
    "Assemble all the details into another prompt to GPT4-o"
   ]
  },
  {
   "cell_type": "code",
   "execution_count": 10,
   "id": "85a5b6e2-e7ef-44a9-bc7f-59ede71037b5",
   "metadata": {},
   "outputs": [],
   "source": [
    "def get_all_details(url):\n",
    "    result = \"Landing page:\\n\"\n",
    "    result += Website(url).get_contents()\n",
    "    links = get_links(url)\n",
    "    print(\"Found links:\", links)\n",
    "    for link in links[\"links\"]:\n",
    "        result += f\"\\n\\n{link['type']}\\n\"\n",
    "        result += Website(link[\"url\"]).get_contents()\n",
    "    return result"
   ]
  },
  {
   "cell_type": "code",
   "execution_count": 11,
   "id": "5099bd14-076d-4745-baf3-dac08d8e5ab2",
   "metadata": {},
   "outputs": [],
   "source": [
    "#print(get_all_details(\"https://edwarddonner.com\"))"
   ]
  },
  {
   "cell_type": "code",
   "execution_count": 12,
   "id": "9b863a55-f86c-4e3f-8a79-94e24c1a8cf2",
   "metadata": {},
   "outputs": [],
   "source": [
    "system_prompt = \"You are an assistant that analyzes the contents of several relevant pages from a company website \\\n",
    "and creates a short brochure about the company for prospective customers, investors and recruits. Respond in markdown.\\\n",
    "Include details of company culture, customers and careers/jobs if you have the information.\"\n",
    "\n",
    "# Or uncomment the lines below for a more humorous brochure - this demonstrates how easy it is to incorporate 'tone':\n",
    "\n",
    "# system_prompt = \"You are an assistant that analyzes the contents of several relevant pages from a company website \\\n",
    "# and creates a short humorous, entertaining, jokey brochure about the company for prospective customers, investors and recruits. Respond in markdown.\\\n",
    "# Include details of company culture, customers and careers/jobs if you have the information.\"\n"
   ]
  },
  {
   "cell_type": "code",
   "execution_count": 13,
   "id": "6ab83d92-d36b-4ce0-8bcc-5bb4c2f8ff23",
   "metadata": {},
   "outputs": [],
   "source": [
    "def get_brochure_user_prompt(company_name, url):\n",
    "    user_prompt = f\"You are looking at a company called: {company_name}\\n\"\n",
    "    user_prompt += f\"Here are the contents of its landing page and other relevant pages; use this information to build a short brochure of the company in markdown.\\n\"\n",
    "    user_prompt += get_all_details(url)\n",
    "    user_prompt = user_prompt[:5_000] # Truncate if more than 5,000 characters\n",
    "    return user_prompt"
   ]
  },
  {
   "cell_type": "code",
   "execution_count": 14,
   "id": "cd909e0b-1312-4ce2-a553-821e795d7572",
   "metadata": {},
   "outputs": [],
   "source": [
    "#get_brochure_user_prompt(\"Ed-Donner\", \"https://edwarddonner.com\")"
   ]
  },
  {
   "cell_type": "code",
   "execution_count": 15,
   "id": "e44de579-4a1a-4e6a-a510-20ea3e4b8d46",
   "metadata": {},
   "outputs": [],
   "source": [
    "def create_brochure(company_name, url):\n",
    "    response = openai.chat.completions.create(\n",
    "        model=\"llama3.2\",\n",
    "        messages=[\n",
    "            {\"role\": \"system\", \"content\": system_prompt},\n",
    "            {\"role\": \"user\", \"content\": get_brochure_user_prompt(company_name, url)}\n",
    "          ]\n",
    "    )\n",
    "    result = response.choices[0].message.content\n",
    "    display(Markdown(result))"
   ]
  },
  {
   "cell_type": "code",
   "execution_count": 16,
   "id": "e093444a-9407-42ae-924a-145730591a39",
   "metadata": {},
   "outputs": [
    {
     "name": "stdout",
     "output_type": "stream",
     "text": [
      "Found links: {'links': [{'type': 'about page', 'url': 'https://edwarddonner.com/about-me-and-about-nebula/'}, {'type': 'Company page (homepage)', 'url': 'https://edwarddonner.com/'}, {'type': 'Posts', 'url': 'https://edwarddonner.com/posts/'}, {'type': 'About the author', 'url': 'https://edwarddonner.com/about-me-and-about-nebula/'}, {'type': 'LinkedIn profile', 'url': 'https://www.linkedin.com/in/eddonner/'}]}\n"
     ]
    },
    {
     "data": {
      "text/markdown": [
       "## Ed-Donner Brochure\n",
       "### About Our Mission\n",
       "\n",
       "Welcome to Ed-Donner, a company dedicated to revolutionizing the world of work and talent management. We are driven by a simple yet profound mission: to help people discover their potential and pursue their reason for being.\n",
       "\n",
       "At Ed-Donner, we believe that AI has the power to make a massive, positive impact on society. Our team is passionate about applying this technology to real-world problems, particularly in the realm of hiring and talent management.\n",
       "\n",
       "### Our Story\n",
       "\n",
       "Our journey began with our AI startup, untapt, which was founded in 2013 by ourselves, Ed. We specialized in building talent marketplaces and data science software for recruitment firms, focusing on tech roles in financial services. After a successful 20-year career, we sold untapt to GQR's parent company in 2021.\n",
       "\n",
       "### Our Current Venture\n",
       "\n",
       "With the acquisition of untapt came the birth of Nebula.io. We have patented our revolutionary matching model and developed an award-winning platform that has already made a significant impact on the industry we serve.\n",
       "\n",
       "Nebula.io is helping recruiters source, understand, engage, and manage talent using Generative AI and other forms of machine learning. Our long-term goal is to empower individuals to discover their Ikigai – a concept that describes the sweet spot where one's passion for work meets their skills.\n",
       "\n",
       "### Connect Four\n",
       "\n",
       "One of our flagship features is Outsmart, an arena that pits LLMs against each other in a battle of diplomacy and deviousness. This platform allows us to test our LLMs in real-world settings, enabling us to identify areas for improvement and push the boundaries of what's possible with AI.\n",
       "\n",
       "### Join Our Community\n",
       "\n",
       "We're on a mission to make a tangible difference in people's lives. If you share our passion for making work fulfilling, engaging, and purpose-driven, we'd love to connect with you.\n",
       "\n",
       "- Follow us: LinkedIn | Twitter | Facebook\n",
       "- Subscribe to our newsletter: [link]\n",
       "- Get in touch: ed@edwarddonner.com\n",
       "\n",
       "### Opportunities to Join Us\n",
       "\n",
       "We're a dynamic team of pioneers seeking talented individuals who share our vision. Explore our career page to find out about current openings and how you can be part of shaping the future of work.\n",
       "\n",
       "[Link to career page]\n",
       "\n",
       "### Thank You!\n",
       "\n",
       "Thank you for being part of the Ed-Donner journey. Let's connect, collaborate, and make a difference together!"
      ],
      "text/plain": [
       "<IPython.core.display.Markdown object>"
      ]
     },
     "metadata": {},
     "output_type": "display_data"
    }
   ],
   "source": [
    "create_brochure(\"Ed-Donner\", \"https://edwarddonner.com\")"
   ]
  },
  {
   "cell_type": "markdown",
   "id": "61eaaab7-0b47-4b29-82d4-75d474ad8d18",
   "metadata": {},
   "source": [
    "With a small adjustment, we can change this so that the results stream back from OpenAI,\n",
    "with the familiar typewriter animation"
   ]
  },
  {
   "cell_type": "code",
   "execution_count": 19,
   "id": "51db0e49-f261-4137-aabe-92dd601f7725",
   "metadata": {},
   "outputs": [],
   "source": [
    "def stream_brochure(company_name, url):\n",
    "    stream = openai.chat.completions.create(\n",
    "        model=\"llama3.2\",\n",
    "        messages=[\n",
    "            {\"role\": \"system\", \"content\": system_prompt},\n",
    "            {\"role\": \"user\", \"content\": get_brochure_user_prompt(company_name, url)}\n",
    "          ],\n",
    "        stream=True\n",
    "    )\n",
    "    \n",
    "    response = \"\"\n",
    "    display_handle = display(Markdown(\"\"), display_id=True)\n",
    "    for chunk in stream:\n",
    "        response += chunk.choices[0].delta.content or ''\n",
    "        response = response.replace(\"```\",\"\").replace(\"markdown\", \"\")\n",
    "        update_display(Markdown(response), display_id=display_handle.display_id)"
   ]
  },
  {
   "cell_type": "code",
   "execution_count": 21,
   "id": "56bf0ae3-ee9d-4a72-9cd6-edcac67ceb6d",
   "metadata": {},
   "outputs": [
    {
     "name": "stdout",
     "output_type": "stream",
     "text": [
      "Found links: {'links': [{'type': 'Company page', 'url': 'https://edwarddonner.com'}, {'type': 'About page', 'url': 'https://edwarddonner.com/about-me-and-about-nebula/'}, {'type': 'Blogger/Posts page', 'url': 'https://edwarddonner.com/posts/'}, {'type': 'LinkedIn profile', 'url': 'https://www.linkedin.com/in/eddonner/'}]}\n"
     ]
    },
    {
     "data": {
      "text/markdown": [
       "# Ed-Donner Brochure\n",
       "\n",
       "## Mission & Purpose\n",
       "\n",
       "At Ed-Donner, our mission is to empower individuals to discover their potential and pursue their purpose, fostering human prosperity through the innovative application of Artificial Intelligence (AI) in the field of talent sourcing and management.\n",
       "\n",
       "## Company Culture\n",
       "\n",
       "Our company embodies a forward-thinking culture that values experimentation, creativity, and collaboration. Our founders and team members share a passion for making a positive impact by applying AI to real-world problems, particularly in the realm of hiring and talent management.\n",
       "\n",
       "Led by our Co-Founder and CTO, Ed, who brings extensive experience as a leader in AI startups, including the acquisition of his previous company in 2021. Our team is composed of like-minded individuals who are equally committed to utilizing AI for the greater good.\n",
       "\n",
       "## Applications & Expertise\n",
       "\n",
       "Ed-Donner specializes in applying Generative AI and machine learning to help recruiters source, understand, engage, and manage talent with unparalleled accuracy and speed. We have patented our unique matching model that operates on a vast array of keywords:\n",
       "\n",
       "**Key Services:**\n",
       "\n",
       "* Talent sourcing\n",
       "* Role matching without traditional keywords\n",
       "* Engagement and management capabilities for HR software\n",
       "\n",
       "## Industry Expertise & Community\n",
       "\n",
       "We are actively engaged in the AI community, hosting events like **Connect Four** (an arena pitting LLMs against each other in a battle of diplomacy and deviousness) to showcase our cutting-edge technology. Additionally, we offer various courses to help professionals enhance their knowledge and skills in LLM expert leadership, including [The Complete Agentic AI Engineering Course](January 23, 2025).\n",
       "\n",
       "**Stay Connected:**\n",
       "\n",
       "- Follow us on LinkedIn\n",
       "- Subscribe to our newsletter\n",
       "\n",
       "## Vision for the Future\n",
       "\n",
       "Our long-term goal is to contribute significantly to human prosperity by increasing the levels of job satisfaction and fulfillment through precision role matching."
      ],
      "text/plain": [
       "<IPython.core.display.Markdown object>"
      ]
     },
     "metadata": {},
     "output_type": "display_data"
    }
   ],
   "source": [
    "stream_brochure(\"Ed-Donner\", \"https://edwarddonner.com\")"
   ]
  },
  {
   "cell_type": "markdown",
   "id": "e43b0dca-f3a3-44f2-abc2-ac7effd638af",
   "metadata": {},
   "source": [
    "# Try changing the system prompt to the humorous version when you make the Brochure for Hugging Face:\n",
    "\n",
    "stream_brochure(\"HuggingFace\", \"https://huggingface.co\")"
   ]
  },
  {
   "cell_type": "code",
   "execution_count": null,
   "id": "b8d3e1a1-ba54-4907-97c5-30f89a24775b",
   "metadata": {},
   "outputs": [],
   "source": []
  }
 ],
 "metadata": {
  "kernelspec": {
   "display_name": "Python 3 (ipykernel)",
   "language": "python",
   "name": "python3"
  },
  "language_info": {
   "codemirror_mode": {
    "name": "ipython",
    "version": 3
   },
   "file_extension": ".py",
   "mimetype": "text/x-python",
   "name": "python",
   "nbconvert_exporter": "python",
   "pygments_lexer": "ipython3",
   "version": "3.11.13"
  }
 },
 "nbformat": 4,
 "nbformat_minor": 5
}
